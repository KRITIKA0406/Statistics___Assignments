{
  "nbformat": 4,
  "nbformat_minor": 0,
  "metadata": {
    "colab": {
      "provenance": []
    },
    "kernelspec": {
      "name": "python3",
      "display_name": "Python 3"
    },
    "language_info": {
      "name": "python"
    }
  },
  "cells": [
    {
      "cell_type": "code",
      "execution_count": null,
      "metadata": {
        "id": "ea6foNwzKlbh"
      },
      "outputs": [],
      "source": [
        "Questions And Answers"
      ]
    },
    {
      "cell_type": "markdown",
      "source": [
        " #1. What is the differenQuestion ce between descriptive statistics and inferential statistics? Explain with examples.\n",
        "\n",
        " ans:-1. Descriptive Statistics\n",
        "Definition: Summarizes and organizes collected data so we can understand it easily.\n",
        "\n",
        "\n",
        "Purpose: To describe what the data shows.\n",
        "\n",
        "\n",
        "Tools: Mean, Median, Mode, Standard Deviation, Graphs, Charts, Tables.\n",
        "\n",
        "\n",
        " Example:-  Marks of 50 students in a class:\n",
        "Average marks = 68\n",
        "\n",
        "\n",
        "Highest marks = 95\n",
        "\n",
        "\n",
        "Lowest marks = 32\n",
        "\n",
        "\n",
        "Standard deviation = 10\n",
        "\n",
        "\n",
        "*Here, we only describe the collected data, no prediction about a larger population.\n",
        "\n",
        "\n",
        "2. Inferential Statistics\n",
        "Definition: Makes predictions or conclusions about a population based on a sample.\n",
        "\n",
        "\n",
        "Purpose: To generalize findings beyond the data we have.\n",
        "\n",
        "\n",
        "Tools: Hypothesis testing, Confidence intervals, Regression, Correlation.\n",
        "\n",
        "\n",
        " Example:- You survey 100 voters in a city of 10,000:\n",
        "60% of sample prefer Party A → You estimate that roughly 60% of the entire city supports Party A.\n",
        "\n",
        "\n",
        "*Here, we infer population trends from a sample.\n",
        "\n"
      ],
      "metadata": {
        "id": "R_QFJWlNKp_L"
      }
    },
    {
      "cell_type": "markdown",
      "source": [
        "#2. What is sampling in statistics? Explain the differences between random and stratified sampling.\n",
        "ans:-Sampling :-  Selecting a small group (sample) from a large population to study and make conclusions.\n",
        "\n",
        "\n",
        "Why? Studying the whole population is time-consuming, costly, or impossible.\n",
        "\n",
        "\n",
        " Example:\n",
        " A school has 2000 students. Instead of checking marks of all students, you randomly select 200 students and study their performance.\n",
        "\n",
        "1. Random Sampling\n",
        "Every individual in the population has an equal chance of being selected.\n",
        "\n",
        "\n",
        "Simple and unbiased method.\n",
        "\n",
        "\n",
        " Example: Pick 200 students randomly from 2000 students’ roll numbers.\n",
        "\n",
        " 2. Stratified Sampling\n",
        "Population is divided into groups/strata (like gender, class, age).\n",
        "\n",
        "\n",
        "A proportional sample is selected from each group to ensure representation.\n",
        "\n",
        "\n",
        "Example:\n",
        "2000 students → 1000 boys & 1000 girls.\n",
        "\n",
        "\n",
        "\n"
      ],
      "metadata": {
        "id": "Pf6VKbmQLCcn"
      }
    },
    {
      "cell_type": "markdown",
      "source": [
        "#3.Define mean, median, and mode. Explain why these measures of central tendency are important.\n",
        "ans:-These are statistical tools that indicate the center or average of a dataset.\n",
        "\n",
        "1. Mean (Arithmetic Average) :- Sum of all observations divided by the number of observations.\n",
        "\n",
        "\n",
        "Formula: Mean=Sum of observations/Number of observations\n",
        "Example: Marks = 10, 20, 30 → Mean = (10+20+30)/3 = 20\n",
        "\n",
        "\n",
        "\n",
        "2. Median :-Middle value of data when arranged in ascending or descending order.\n",
        "\n",
        "\n",
        "Example: 10, 20, 30 → Median = 20\n",
        " If data is even: 10, 20, 30, 40 → Median = (20+30)/2 = 25\n",
        "\n",
        "\n",
        "\n",
        "3. Mode :- Most frequently occurring value in the dataset.\n",
        "\n",
        "\n",
        "Example: 2, 4, 4, 6, 7 → Mode = 4\n",
        "\n",
        "Importance:-\n",
        "Summarizes data by representing it with a single value.\n",
        "\n",
        "\n",
        "Shows the central point of the data distribution.\n",
        "\n",
        "\n",
        "Helps in comparison between different datasets (e.g., average marks of classes).\n",
        "\n",
        "\n",
        "Each measure has specific uses:\n",
        "\n",
        "\n",
        "Mean: Useful for overall average (salary, marks).\n",
        "\n",
        "\n",
        "Median: Useful when there are extreme values (income distribution).\n",
        "\n",
        "\n",
        "Mode: Useful to find the most common value (fashion size, exam scores).\n",
        "\n",
        "\n"
      ],
      "metadata": {
        "id": "pLdwt2EuLXiP"
      }
    },
    {
      "cell_type": "markdown",
      "source": [
        "#4.Explain skewness and kurtosis. What does a positive skew imply about the data?\n",
        "ans:-1. Skewness :- Skewness measures the asymmetry of a data distribution around its mean.\n",
        "\n",
        "\n",
        "Types:\n",
        "\n",
        "\n",
        "Positive skew (right skew): Tail stretches to the right. Most data values are clustered on the left, with few high values on the right.\n",
        "\n",
        "\n",
        "Negative skew (left skew): Tail stretches to the left. Most data values are clustered on the right, with few low values on the left.\n",
        "\n",
        "\n",
        "Example:\n",
        "\n",
        "\n",
        "Positive skew: Income of people in a city → most earn low/average, few earn very high.\n",
        "\n",
        "\n",
        "Negative skew: Age at retirement → most retire around 60, few retire early.\n",
        "\n",
        "\n",
        "Implication of Positive Skew:\n",
        "\n",
        "\n",
        "Mean > Median > Mode\n",
        "\n",
        "\n",
        "Data is concentrated at lower values with some extremely high values pulling the tail to the right.\n",
        "\n",
        "\n",
        "\n",
        "2. Kurtosis :- Kurtosis measures the peakedness or flatness of a distribution compared to a normal distribution.\n",
        "\n",
        "\n",
        "Types:\n",
        "\n",
        "\n",
        "Leptokurtic: High peak, heavy tails (more extreme values).\n",
        "\n",
        "\n",
        "Platykurtic: Flat distribution, light tails (less extreme values).\n",
        "\n",
        "\n",
        "Mesokurtic: Normal peak (similar to normal distribution).\n",
        "\n",
        "\n",
        "Example:\n",
        "\n",
        "\n",
        "Leptokurtic: Test scores where most students score around average but some score extremely high/low.\n",
        "\n",
        "\n",
        "Platykurtic: Uniform distribution like rolling a fair die.\n"
      ],
      "metadata": {
        "id": "tQsCmzCSLrZ5"
      }
    },
    {
      "cell_type": "markdown",
      "source": [
        "#5.Implement a Python program to compute the mean, median, and mode of a given list of numbers.\n",
        "numbers = [12, 15, 12, 18, 19, 12, 20, 22, 19, 19, 24, 24, 24, 26, 28]\n"
      ],
      "metadata": {
        "id": "g-Z8mjKVL5tn"
      }
    },
    {
      "cell_type": "code",
      "source": [
        "#code:-\n",
        "# Import required modules\n",
        "from statistics import mean, median, mode\n",
        "\n",
        "# Given list of numbers\n",
        "numbers = [12, 15, 12, 18, 19, 12, 20, 22, 19, 19, 24, 24, 24, 26, 28]\n",
        "\n",
        "# Compute mean, median, and mode\n",
        "mean_value = mean(numbers)\n",
        "median_value = median(numbers)\n",
        "mode_value = mode(numbers)\n",
        "\n",
        "# Print results\n",
        "print(\"Numbers:\", numbers)\n",
        "print(\"Mean:\", mean_value)\n",
        "print(\"Median:\", median_value)\n",
        "print(\"Mode:\", mode_value)\n",
        "\n",
        "##################################################\n",
        "OUTPUT:-\n",
        "Numbers: [12, 15, 12, 18, 19, 12, 20, 22, 19, 19, 24, 24, 24, 26, 28]\n",
        "Mean: 19.6\n",
        "Median: 19\n",
        "Mode: 12\n",
        "\n",
        "\n",
        "\n",
        "\n"
      ],
      "metadata": {
        "colab": {
          "base_uri": "https://localhost:8080/",
          "height": 106
        },
        "id": "fyGCYKkvMFnI",
        "outputId": "169784ab-6e49-4804-e649-ddefed34198d"
      },
      "execution_count": null,
      "outputs": [
        {
          "output_type": "error",
          "ename": "SyntaxError",
          "evalue": "invalid syntax (ipython-input-4267324686.py, line 20)",
          "traceback": [
            "\u001b[0;36m  File \u001b[0;32m\"/tmp/ipython-input-4267324686.py\"\u001b[0;36m, line \u001b[0;32m20\u001b[0m\n\u001b[0;31m    OUTPUT:-\u001b[0m\n\u001b[0m             ^\u001b[0m\n\u001b[0;31mSyntaxError\u001b[0m\u001b[0;31m:\u001b[0m invalid syntax\n"
          ]
        }
      ]
    },
    {
      "cell_type": "code",
      "source": [
        "#6.Compute the covariance and correlation coefficient between the following two datasets provided as lists in Python:\n",
        "list_x = [10, 20, 30, 40, 50]\n",
        "list_y = [15, 25, 35, 45, 60]\n",
        "\n",
        "# Import required modules\n",
        "import numpy as np\n",
        "\n",
        "# Given datasets\n",
        "list_x = [10, 20, 30, 40, 50]\n",
        "list_y = [15, 25, 35, 45, 60]\n",
        "\n",
        "# Convert lists to numpy arrays\n",
        "x = np.array(list_x)\n",
        "y = np.array(list_y)\n",
        "\n",
        "# Compute covariance\n",
        "cov_matrix = np.cov(x, y)  # covariance matrix\n",
        "cov_xy = cov_matrix[0, 1]  # covariance between x and y\n",
        "\n",
        "# Compute correlation coefficient\n",
        "corr_matrix = np.corrcoef(x, y)\n",
        "corr_xy = corr_matrix[0, 1]  # correlation coefficient\n",
        "\n",
        "# Print results\n",
        "print(\"List X:\", list_x)\n",
        "print(\"List Y:\", list_y)\n",
        "print(\"Covariance:\", cov_xy)\n",
        "print(\"Correlation Coefficient:\", corr_xy)\n",
        "\n",
        "############################################\n",
        "Output :-\n",
        " List X: [10, 20, 30, 40, 50]\n",
        "List Y: [15, 25, 35, 45, 60]\n",
        "Covariance: 275.0\n",
        "Correlation Coefficient: 0.995893206467704\n",
        "\n",
        "\n"
      ],
      "metadata": {
        "colab": {
          "base_uri": "https://localhost:8080/",
          "height": 106
        },
        "id": "jQ20-l24Ma1W",
        "outputId": "f09aecd4-a76f-43e6-c7be-003c5eed74cf"
      },
      "execution_count": null,
      "outputs": [
        {
          "output_type": "error",
          "ename": "SyntaxError",
          "evalue": "invalid syntax (ipython-input-411856706.py, line 31)",
          "traceback": [
            "\u001b[0;36m  File \u001b[0;32m\"/tmp/ipython-input-411856706.py\"\u001b[0;36m, line \u001b[0;32m31\u001b[0m\n\u001b[0;31m    Output :-\u001b[0m\n\u001b[0m             ^\u001b[0m\n\u001b[0;31mSyntaxError\u001b[0m\u001b[0;31m:\u001b[0m invalid syntax\n"
          ]
        }
      ]
    },
    {
      "cell_type": "markdown",
      "source": [
        "#7.Write a Python script to draw a boxplot for the following numeric list and identify its outliers. Explain the result:\n",
        "data = [12, 14, 14, 15, 18, 19, 19, 21, 22, 22, 23, 23, 24, 26, 29, 35]\n"
      ],
      "metadata": {
        "id": "m7R-NqTaMvx_"
      }
    },
    {
      "cell_type": "code",
      "source": [
        "# Import required libraries\n",
        "import matplotlib.pyplot as plt\n",
        "\n",
        "# Given dataset\n",
        "data = [12, 14, 14, 15, 18, 19, 19, 21, 22, 22, 23, 23, 24, 26, 29, 35]\n",
        "\n",
        "# Draw boxplot\n",
        "plt.boxplot(data, vert=True, patch_artist=True)\n",
        "plt.title(\"Boxplot of the Data\")\n",
        "plt.ylabel(\"Values\")\n",
        "plt.show()\n",
        "\n",
        "# Identify outliers using IQR method\n",
        "Q1 = np.percentile(data, 25)  # 1st quartile\n",
        "Q3 = np.percentile(data, 75)  # 3rd quartile\n",
        "IQR = Q3 - Q1                  # Interquartile range\n",
        "\n",
        "lower_bound = Q1 - 1.5 * IQR\n",
        "upper_bound = Q3 + 1.5 * IQR\n",
        "\n",
        "# Find outliers\n",
        "outliers = [x for x in data if x < lower_bound or x > upper_bound]\n",
        "\n",
        "print(\"Data:\", data)\n",
        "print(\"Q1:\", Q1, \"Q3:\", Q3, \"IQR:\", IQR)\n",
        "print(\"Lower Bound:\", lower_bound, \"Upper Bound:\", upper_bound)\n",
        "print(\"Outliers:\", outliers)\n",
        "\n",
        "###################################\n"
      ],
      "metadata": {
        "colab": {
          "base_uri": "https://localhost:8080/",
          "height": 646
        },
        "id": "NGppBoU3My-R",
        "outputId": "6a1dcc28-aa68-4bef-ef72-c944dc9d8229"
      },
      "execution_count": null,
      "outputs": [
        {
          "output_type": "display_data",
          "data": {
            "text/plain": [
              "<Figure size 640x480 with 1 Axes>"
            ],
            "image/png": "[encoded data removed]"
          },
          "metadata": {}
        },
        {
          "output_type": "error",
          "ename": "NameError",
          "evalue": "name 'np' is not defined",
          "traceback": [
            "\u001b[0;31m---------------------------------------------------------------------------\u001b[0m",
            "\u001b[0;31mNameError\u001b[0m                                 Traceback (most recent call last)",
            "\u001b[0;32m/tmp/ipython-input-1760846729.py\u001b[0m in \u001b[0;36m<cell line: 0>\u001b[0;34m()\u001b[0m\n\u001b[1;32m     12\u001b[0m \u001b[0;34m\u001b[0m\u001b[0m\n\u001b[1;32m     13\u001b[0m \u001b[0;31m# Identify outliers using IQR method\u001b[0m\u001b[0;34m\u001b[0m\u001b[0;34m\u001b[0m\u001b[0m\n\u001b[0;32m---> 14\u001b[0;31m \u001b[0mQ1\u001b[0m \u001b[0;34m=\u001b[0m \u001b[0mnp\u001b[0m\u001b[0;34m.\u001b[0m\u001b[0mpercentile\u001b[0m\u001b[0;34m(\u001b[0m\u001b[0mdata\u001b[0m\u001b[0;34m,\u001b[0m \u001b[0;36m25\u001b[0m\u001b[0;34m)\u001b[0m  \u001b[0;31m# 1st quartile\u001b[0m\u001b[0;34m\u001b[0m\u001b[0;34m\u001b[0m\u001b[0m\n\u001b[0m\u001b[1;32m     15\u001b[0m \u001b[0mQ3\u001b[0m \u001b[0;34m=\u001b[0m \u001b[0mnp\u001b[0m\u001b[0;34m.\u001b[0m\u001b[0mpercentile\u001b[0m\u001b[0;34m(\u001b[0m\u001b[0mdata\u001b[0m\u001b[0;34m,\u001b[0m \u001b[0;36m75\u001b[0m\u001b[0;34m)\u001b[0m  \u001b[0;31m# 3rd quartile\u001b[0m\u001b[0;34m\u001b[0m\u001b[0;34m\u001b[0m\u001b[0m\n\u001b[1;32m     16\u001b[0m \u001b[0mIQR\u001b[0m \u001b[0;34m=\u001b[0m \u001b[0mQ3\u001b[0m \u001b[0;34m-\u001b[0m \u001b[0mQ1\u001b[0m                  \u001b[0;31m# Interquartile range\u001b[0m\u001b[0;34m\u001b[0m\u001b[0;34m\u001b[0m\u001b[0m\n",
            "\u001b[0;31mNameError\u001b[0m: name 'np' is not defined"
          ]
        }
      ]
    },
    {
      "cell_type": "markdown",
      "source": [
        "#8.You are working as a data analyst in an e-commerce company. The marketing team wants to know if there is a relationship between advertising spend and daily sales.\n",
        "● Explain how you would use covariance and correlation to explore this relationship.\n",
        "● Write Python code to compute the correlation between the two lists: advertising_spend = [200, 250, 300, 400, 500]\n",
        "daily_sales = [2200, 2450, 2750, 3200, 4000]\n"
      ],
      "metadata": {
        "id": "GHX4Cs1QNCIl"
      }
    },
    {
      "cell_type": "markdown",
      "source": [
        "#9.Your team has collected customer satisfaction survey data on a scale of 1-10 and wants to understand its distribution before launching a new product.\n",
        "● Explain which summary statistics and visualizations (e.g. mean, standard deviation, histogram) you’d use.\n",
        "● Write Python code to create a histogram using Matplotlib for the survey data:\n",
        "survey_scores = [7, 8, 5, 9, 6, 7, 8, 9, 10, 4, 7, 6, 9, 8, 7]\n"
      ],
      "metadata": {
        "id": "356rwjGmNPW3"
      }
    },
    {
      "cell_type": "markdown",
      "source": [
        "Summary Statistics\n",
        "Mean → Average satisfaction score.\n",
        "\n",
        "\n",
        "Median → Middle value; useful if there are extreme scores.\n",
        "\n",
        "\n",
        "Mode → Most common satisfaction score.\n",
        "\n",
        "\n",
        "Standard Deviation (SD) → Measures how spread out the scores are.\n",
        "\n",
        "\n",
        "Range / Min / Max → Gives the overall spread of scores.\n",
        "\n",
        "\n",
        "Visualizations:-\n",
        "Histogram → Shows how frequently each score occurs; visualizes distribution.\n",
        "\n",
        "\n",
        "Boxplot → Helps identify median, quartiles, and any outliers.\n",
        "\n",
        "\n",
        " Why?\n",
        "Helps marketing team see the overall trend of customer satisfaction before product launch.\n",
        "\n",
        "\n",
        "Can identify if most customers are satisfied (high scores) or if there are concerns (low scores).\n",
        "\n",
        "\n"
      ],
      "metadata": {
        "id": "Hy9-0bwHNjw4"
      }
    },
    {
      "cell_type": "code",
      "source": [
        "CODE:-\n",
        "# Import required library\n",
        "import matplotlib.pyplot as plt\n",
        "\n",
        "# Survey data\n",
        "survey_scores = [7, 8, 5, 9, 6, 7, 8, 9, 10, 4, 7, 6, 9, 8, 7]\n",
        "\n",
        "# Create histogram\n",
        "plt.hist(survey_scores, bins=7, edgecolor='black', color='skyblue')\n",
        "plt.title(\"Histogram of Customer Satisfaction Scores\")\n",
        "plt.xlabel(\"Survey Score\")\n",
        "plt.ylabel(\"Frequency\")\n",
        "plt.xticks(range(4, 11))  # Set x-axis labels from 4 to 10\n",
        "plt.show()\n",
        "#######################\n",
        "OUTPUT:-\n"
      ],
      "metadata": {
        "colab": {
          "base_uri": "https://localhost:8080/",
          "height": 106
        },
        "id": "Yb49QJkHSqSE",
        "outputId": "72c4c225-68eb-430e-a434-fd900840bc8b"
      },
      "execution_count": null,
      "outputs": [
        {
          "output_type": "error",
          "ename": "SyntaxError",
          "evalue": "invalid syntax (ipython-input-802931166.py, line 1)",
          "traceback": [
            "\u001b[0;36m  File \u001b[0;32m\"/tmp/ipython-input-802931166.py\"\u001b[0;36m, line \u001b[0;32m1\u001b[0m\n\u001b[0;31m    CODE:-\u001b[0m\n\u001b[0m          ^\u001b[0m\n\u001b[0;31mSyntaxError\u001b[0m\u001b[0;31m:\u001b[0m invalid syntax\n"
          ]
        }
      ]
    }
  ]
}